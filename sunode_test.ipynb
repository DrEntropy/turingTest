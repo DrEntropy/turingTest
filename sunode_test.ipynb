{
 "cells": [
  {
   "cell_type": "code",
   "execution_count": null,
   "metadata": {},
   "outputs": [],
   "source": [
    "import numpy as np\n",
    "import pymc as pm\n",
    "import pandas as pd\n",
    "from pytensor import tensor as pt\n",
    "from matplotlib import pyplot as plt\n",
    "from sunode.solver import Solver\n",
    "import sunode\n",
    "import sunode.wrappers.as_pytensor\n",
    "import arviz as az\n",
    "\n",
    "pm.__version__"
   ]
  },
  {
   "cell_type": "markdown",
   "metadata": {},
   "source": [
    "Test with Lotka - Volterra model.  Copied form \n",
    "https://github.com/pymc-devs/sunode"
   ]
  },
  {
   "cell_type": "code",
   "execution_count": null,
   "metadata": {},
   "outputs": [],
   "source": [
    "def lotka_volterra(t, y, p):\n",
    "    \"\"\"Right hand side of Lotka-Volterra equation.\n",
    "\n",
    "    All inputs are dataclasses of sympy variables, or in the case\n",
    "    of non-scalar variables numpy arrays of sympy variables.\n",
    "    \"\"\"\n",
    "    return {\n",
    "        'hares': p.alpha * y.hares - p.beta * y.lynx * y.hares,\n",
    "        'lynx': p.delta * y.hares * y.lynx - p.gamma * y.lynx,\n",
    "    }\n",
    "\n",
    "\n",
    "from sunode.symode import SympyProblem\n",
    "problem = SympyProblem(\n",
    "    params={\n",
    "        # We need to specify the shape of each parameter.\n",
    "        # Any empty tuple corresponds to a scalar value.\n",
    "        'alpha': (),\n",
    "        'beta': (),\n",
    "        'gamma': (),\n",
    "        'delta': (),\n",
    "    },\n",
    "    states={\n",
    "        # The same for all state variables\n",
    "        'hares': (),\n",
    "        'lynx': (),\n",
    "    },\n",
    "    rhs_sympy=lotka_volterra,\n",
    "    derivative_params=[\n",
    "        # We need to specify with respect to which variables\n",
    "        # gradients should be computed.\n",
    "        ('alpha',),\n",
    "        ('beta',),\n",
    "    ],\n",
    ")\n",
    "\n",
    "# The solver generates uses numba and sympy to generate optimized C functions\n",
    "# for the right-hand-side and if necessary for the jacobian, adoint and\n",
    "# quadrature functions for gradients.\n",
    "from sunode.solver import Solver\n",
    "solver = Solver(problem, sens_mode=None, solver='BDF')\n",
    "\n",
    "\n",
    "import numpy as np\n",
    "tvals = np.linspace(0, 10)\n",
    "# We can use numpy structured arrays as input, so that we don't need\n",
    "# to think about how the different variables are stored in the array.\n",
    "# This does not introduce any runtime overhead during solving.\n",
    "y0 = np.zeros((), dtype=problem.state_dtype)\n",
    "y0['hares'] = 1\n",
    "y0['lynx'] = 0.1\n",
    "\n",
    "# We can also specify the parameters by name:\n",
    "solver.set_params_dict({\n",
    "    'alpha': 0.1,\n",
    "    'beta': 0.2,\n",
    "    'gamma': 0.3,\n",
    "    'delta': 0.4,\n",
    "})\n",
    "\n",
    "output = solver.make_output_buffers(tvals)\n",
    "solver.solve(t0=0, tvals=tvals, y0=y0, y_out=output)\n",
    "\n",
    "# We can convert the solution to an xarray Dataset\n",
    "solver.as_xarray(tvals, output).solution_hares.plot()\n"
   ]
  },
  {
   "cell_type": "markdown",
   "metadata": {},
   "source": [
    "Ok now try to use PYMC , again following the same documentation"
   ]
  },
  {
   "cell_type": "code",
   "execution_count": null,
   "metadata": {},
   "outputs": [],
   "source": [
    "# read in the data\n",
    "data = pd.read_csv('ode_data.csv')\n",
    "data.head()"
   ]
  },
  {
   "cell_type": "code",
   "execution_count": null,
   "metadata": {},
   "outputs": [],
   "source": [
    "# plot the data\n",
    "plt.plot(data.times, data.lynx, 'o')\n",
    "plt.plot(data.times, data.hare, 'o')"
   ]
  },
  {
   "cell_type": "code",
   "execution_count": null,
   "metadata": {},
   "outputs": [],
   "source": [
    "# Not really sure if this is correct.\n",
    "def log_if_pos(x):\n",
    "    return pt.switch(pt.gt(x,0),pt.log(x),pt.zeros_like(x))\n",
    "\n",
    "with pm.Model() as model:\n",
    "    hares_start = pm.TruncatedNormal('hares_start',mu = 10, sigma=50, lower = 0.1)\n",
    "    lynx_start = pm.TruncatedNormal('lynx_start', mu = 10, sigma=50, lower  = 0.1)\n",
    "     \n",
    "    alpha = pm.TruncatedNormal('alpha', mu=0.5, sigma = 1, lower = 0, upper=2)\n",
    "    beta = pm.TruncatedNormal('beta', mu=0.5, sigma = 1, lower = 0, upper=2)\n",
    "    gamma = pm.TruncatedNormal('gamma', mu=0.5, sigma = 1, lower = 0, upper=2)\n",
    "    delta = pm.TruncatedNormal('delta', mu=0.5, sigma = 1, lower = 0, upper=2)\n",
    "    \n",
    "    y_hat, _, problem, solver, _, _ = sunode.wrappers.as_pytensor.solve_ivp(\n",
    "        y0={\n",
    "        # The initial conditions of the ode. Each variable\n",
    "        # needs to specify a PyTensor or numpy variable and a shape.\n",
    "        # This dict can be nested.\n",
    "            'hares': (hares_start, ()),\n",
    "            'lynx': (lynx_start, ()),\n",
    "        },\n",
    "        params={\n",
    "        # Each parameter of the ode. sunode will only compute derivatives\n",
    "        # with respect to PyTensor variables. The shape needs to be specified\n",
    "        # as well. It it infered automatically for numpy variables.\n",
    "        # This dict can be nested.\n",
    "            'alpha': (alpha, ()),\n",
    "            'beta': (beta, ()),\n",
    "            'gamma': (gamma, ()),\n",
    "            'delta': (delta, ()),\n",
    "            'extra': np.zeros(1),\n",
    "        },\n",
    "        # A functions that computes the right-hand-side of the ode using\n",
    "        # sympy variables.\n",
    "        rhs=lotka_volterra,\n",
    "        # The time points where we want to access the solution\n",
    "        tvals=data.times,\n",
    "        t0=data.times[0]\n",
    "    )\n",
    "    \n",
    "    # We can access the individual variables of the solution using the\n",
    "    # variable names.\n",
    "    pm.Deterministic('hares_mu', y_hat['hares'])\n",
    "    pm.Deterministic('lynx_mu', y_hat['lynx'])\n",
    "    \n",
    "    sd = pm.Exponential('sd',10) \n",
    "    # multiplicate error.  This can propduce nans if y goes negative, but it doesnt cause any problems\n",
    "    # Nevertheless to match the julia version I use 'log_if_pos' .\n",
    "    pm.LogNormal('hares', mu=log_if_pos(y_hat['hares']), sigma=sd, observed=data.hare)\n",
    "    pm.LogNormal('lynx', mu=log_if_pos(y_hat['lynx']), sigma=sd, observed=data.lynx)"
   ]
  },
  {
   "cell_type": "code",
   "execution_count": null,
   "metadata": {},
   "outputs": [],
   "source": [
    "with model:\n",
    "    idata = pm.sample(tune=1000, draws=1000, chains =4,cores = 4)"
   ]
  },
  {
   "cell_type": "code",
   "execution_count": null,
   "metadata": {},
   "outputs": [],
   "source": [
    "az.plot_trace(idata, var_names=['alpha', 'beta', 'gamma', 'delta', 'hares_start', 'lynx_start', 'sd']);"
   ]
  },
  {
   "cell_type": "code",
   "execution_count": null,
   "metadata": {},
   "outputs": [],
   "source": [
    "# list the variables in idata\n",
    "az.summary(idata, var_names=['alpha', 'beta', 'gamma', 'delta', 'hares_start', 'lynx_start', 'sd'])"
   ]
  }
 ],
 "metadata": {
  "kernelspec": {
   "display_name": "pymc_env",
   "language": "python",
   "name": "python3"
  },
  "language_info": {
   "codemirror_mode": {
    "name": "ipython",
    "version": 3
   },
   "file_extension": ".py",
   "mimetype": "text/x-python",
   "name": "python",
   "nbconvert_exporter": "python",
   "pygments_lexer": "ipython3",
   "version": "3.11.7"
  }
 },
 "nbformat": 4,
 "nbformat_minor": 2
}
